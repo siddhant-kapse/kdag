{
 "cells": [
  {
   "cell_type": "markdown",
   "metadata": {},
   "source": [
    "# Loan Prediction\n",
    "## Binary Classification using Logistic Regression"
   ]
  },
  {
   "cell_type": "markdown",
   "metadata": {},
   "source": [
    "### Importing Libraries"
   ]
  },
  {
   "cell_type": "code",
   "execution_count": 1,
   "metadata": {},
   "outputs": [],
   "source": [
    "import numpy as np\n",
    "import pandas as pd\n",
    "import matplotlib.pyplot as plt\n",
    "%matplotlib inline\n",
    "import seaborn as sns\n",
    "import warnings\n",
    "warnings.filterwarnings('ignore') "
   ]
  },
  {
   "cell_type": "markdown",
   "metadata": {},
   "source": [
    "### Importing & Loading the dataset"
   ]
  },
  {
   "cell_type": "code",
   "execution_count": 2,
   "metadata": {},
   "outputs": [
    {
     "data": {
      "text/html": [
       "<div>\n",
       "<style scoped>\n",
       "    .dataframe tbody tr th:only-of-type {\n",
       "        vertical-align: middle;\n",
       "    }\n",
       "\n",
       "    .dataframe tbody tr th {\n",
       "        vertical-align: top;\n",
       "    }\n",
       "\n",
       "    .dataframe thead th {\n",
       "        text-align: right;\n",
       "    }\n",
       "</style>\n",
       "<table border=\"1\" class=\"dataframe\">\n",
       "  <thead>\n",
       "    <tr style=\"text-align: right;\">\n",
       "      <th></th>\n",
       "      <th>id</th>\n",
       "      <th>discount</th>\n",
       "      <th>price</th>\n",
       "      <th>no of items</th>\n",
       "      <th>location</th>\n",
       "      <th>class</th>\n",
       "      <th>segment</th>\n",
       "      <th>delivery_type</th>\n",
       "      <th>RID</th>\n",
       "      <th>address code</th>\n",
       "      <th>profit</th>\n",
       "    </tr>\n",
       "  </thead>\n",
       "  <tbody>\n",
       "    <tr>\n",
       "      <th>0</th>\n",
       "      <td>1</td>\n",
       "      <td>0.2</td>\n",
       "      <td>16.448</td>\n",
       "      <td>2</td>\n",
       "      <td>Central</td>\n",
       "      <td>kariox</td>\n",
       "      <td>Consumer</td>\n",
       "      <td>Standard Class</td>\n",
       "      <td>7981</td>\n",
       "      <td>77095</td>\n",
       "      <td>5.5512</td>\n",
       "    </tr>\n",
       "    <tr>\n",
       "      <th>1</th>\n",
       "      <td>2</td>\n",
       "      <td>0.0</td>\n",
       "      <td>29.700</td>\n",
       "      <td>5</td>\n",
       "      <td>Central</td>\n",
       "      <td>kariox</td>\n",
       "      <td>Consumer</td>\n",
       "      <td>Standard Class</td>\n",
       "      <td>6334</td>\n",
       "      <td>48185</td>\n",
       "      <td>13.3650</td>\n",
       "    </tr>\n",
       "    <tr>\n",
       "      <th>2</th>\n",
       "      <td>3</td>\n",
       "      <td>0.0</td>\n",
       "      <td>14.730</td>\n",
       "      <td>3</td>\n",
       "      <td>Central</td>\n",
       "      <td>qexty</td>\n",
       "      <td>Consumer</td>\n",
       "      <td>Standard Class</td>\n",
       "      <td>6333</td>\n",
       "      <td>48185</td>\n",
       "      <td>4.8609</td>\n",
       "    </tr>\n",
       "    <tr>\n",
       "      <th>3</th>\n",
       "      <td>4</td>\n",
       "      <td>0.0</td>\n",
       "      <td>43.920</td>\n",
       "      <td>3</td>\n",
       "      <td>Central</td>\n",
       "      <td>kariox</td>\n",
       "      <td>Consumer</td>\n",
       "      <td>Standard Class</td>\n",
       "      <td>6332</td>\n",
       "      <td>48185</td>\n",
       "      <td>12.7368</td>\n",
       "    </tr>\n",
       "    <tr>\n",
       "      <th>4</th>\n",
       "      <td>5</td>\n",
       "      <td>0.0</td>\n",
       "      <td>66.580</td>\n",
       "      <td>2</td>\n",
       "      <td>Central</td>\n",
       "      <td>kariox</td>\n",
       "      <td>Consumer</td>\n",
       "      <td>Standard Class</td>\n",
       "      <td>6331</td>\n",
       "      <td>48185</td>\n",
       "      <td>15.9792</td>\n",
       "    </tr>\n",
       "  </tbody>\n",
       "</table>\n",
       "</div>"
      ],
      "text/plain": [
       "   id  discount   price  no of items location   class   segment  \\\n",
       "0   1       0.2  16.448            2  Central  kariox  Consumer   \n",
       "1   2       0.0  29.700            5  Central  kariox  Consumer   \n",
       "2   3       0.0  14.730            3  Central   qexty  Consumer   \n",
       "3   4       0.0  43.920            3  Central  kariox  Consumer   \n",
       "4   5       0.0  66.580            2  Central  kariox  Consumer   \n",
       "\n",
       "    delivery_type   RID  address code   profit  \n",
       "0  Standard Class  7981         77095   5.5512  \n",
       "1  Standard Class  6334         48185  13.3650  \n",
       "2  Standard Class  6333         48185   4.8609  \n",
       "3  Standard Class  6332         48185  12.7368  \n",
       "4  Standard Class  6331         48185  15.9792  "
      ]
     },
     "execution_count": 2,
     "metadata": {},
     "output_type": "execute_result"
    }
   ],
   "source": [
    "df1 = pd.read_csv('train2.csv')\n",
    "df1.head()"
   ]
  },
  {
   "cell_type": "code",
   "execution_count": 3,
   "metadata": {},
   "outputs": [
    {
     "data": {
      "text/html": [
       "<div>\n",
       "<style scoped>\n",
       "    .dataframe tbody tr th:only-of-type {\n",
       "        vertical-align: middle;\n",
       "    }\n",
       "\n",
       "    .dataframe tbody tr th {\n",
       "        vertical-align: top;\n",
       "    }\n",
       "\n",
       "    .dataframe thead th {\n",
       "        text-align: right;\n",
       "    }\n",
       "</style>\n",
       "<table border=\"1\" class=\"dataframe\">\n",
       "  <thead>\n",
       "    <tr style=\"text-align: right;\">\n",
       "      <th></th>\n",
       "      <th>id</th>\n",
       "      <th>discount</th>\n",
       "      <th>price</th>\n",
       "      <th>no of items</th>\n",
       "      <th>location</th>\n",
       "      <th>class</th>\n",
       "      <th>segment</th>\n",
       "      <th>delivery_type</th>\n",
       "      <th>RID</th>\n",
       "      <th>address code</th>\n",
       "    </tr>\n",
       "  </thead>\n",
       "  <tbody>\n",
       "    <tr>\n",
       "      <th>0</th>\n",
       "      <td>6701</td>\n",
       "      <td>0.0</td>\n",
       "      <td>24.200</td>\n",
       "      <td>5</td>\n",
       "      <td>West</td>\n",
       "      <td>kariox</td>\n",
       "      <td>Consumer</td>\n",
       "      <td>Standard Class</td>\n",
       "      <td>2408</td>\n",
       "      <td>94122</td>\n",
       "    </tr>\n",
       "    <tr>\n",
       "      <th>1</th>\n",
       "      <td>6702</td>\n",
       "      <td>0.2</td>\n",
       "      <td>359.976</td>\n",
       "      <td>3</td>\n",
       "      <td>West</td>\n",
       "      <td>fynota</td>\n",
       "      <td>Consumer</td>\n",
       "      <td>Standard Class</td>\n",
       "      <td>2409</td>\n",
       "      <td>94122</td>\n",
       "    </tr>\n",
       "    <tr>\n",
       "      <th>2</th>\n",
       "      <td>6703</td>\n",
       "      <td>0.0</td>\n",
       "      <td>3.520</td>\n",
       "      <td>2</td>\n",
       "      <td>East</td>\n",
       "      <td>kariox</td>\n",
       "      <td>Consumer</td>\n",
       "      <td>Standard Class</td>\n",
       "      <td>5425</td>\n",
       "      <td>6708</td>\n",
       "    </tr>\n",
       "    <tr>\n",
       "      <th>3</th>\n",
       "      <td>6704</td>\n",
       "      <td>0.2</td>\n",
       "      <td>11.520</td>\n",
       "      <td>5</td>\n",
       "      <td>Central</td>\n",
       "      <td>kariox</td>\n",
       "      <td>Consumer</td>\n",
       "      <td>First Class</td>\n",
       "      <td>7408</td>\n",
       "      <td>60653</td>\n",
       "    </tr>\n",
       "    <tr>\n",
       "      <th>4</th>\n",
       "      <td>6705</td>\n",
       "      <td>0.0</td>\n",
       "      <td>242.940</td>\n",
       "      <td>3</td>\n",
       "      <td>West</td>\n",
       "      <td>kariox</td>\n",
       "      <td>Home Office</td>\n",
       "      <td>Standard Class</td>\n",
       "      <td>733</td>\n",
       "      <td>98115</td>\n",
       "    </tr>\n",
       "  </tbody>\n",
       "</table>\n",
       "</div>"
      ],
      "text/plain": [
       "     id  discount    price  no of items location   class      segment  \\\n",
       "0  6701       0.0   24.200            5     West  kariox     Consumer   \n",
       "1  6702       0.2  359.976            3     West  fynota     Consumer   \n",
       "2  6703       0.0    3.520            2     East  kariox     Consumer   \n",
       "3  6704       0.2   11.520            5  Central  kariox     Consumer   \n",
       "4  6705       0.0  242.940            3     West  kariox  Home Office   \n",
       "\n",
       "    delivery_type   RID  address code  \n",
       "0  Standard Class  2408         94122  \n",
       "1  Standard Class  2409         94122  \n",
       "2  Standard Class  5425          6708  \n",
       "3     First Class  7408         60653  \n",
       "4  Standard Class   733         98115  "
      ]
     },
     "execution_count": 3,
     "metadata": {},
     "output_type": "execute_result"
    }
   ],
   "source": [
    "df2 = pd.read_csv('test2.csv')\n",
    "df2.head()"
   ]
  },
  {
   "cell_type": "markdown",
   "metadata": {},
   "source": [
    "### Dataset Info:"
   ]
  },
  {
   "cell_type": "code",
   "execution_count": 4,
   "metadata": {},
   "outputs": [
    {
     "name": "stdout",
     "output_type": "stream",
     "text": [
      "<class 'pandas.core.frame.DataFrame'>\n",
      "RangeIndex: 6700 entries, 0 to 6699\n",
      "Data columns (total 11 columns):\n",
      " #   Column         Non-Null Count  Dtype  \n",
      "---  ------         --------------  -----  \n",
      " 0   id             6700 non-null   int64  \n",
      " 1   discount       6700 non-null   float64\n",
      " 2   price          6700 non-null   float64\n",
      " 3   no of items    6700 non-null   int64  \n",
      " 4   location       6700 non-null   object \n",
      " 5   class          6700 non-null   object \n",
      " 6   segment        6700 non-null   object \n",
      " 7   delivery_type  6699 non-null   object \n",
      " 8   RID            6700 non-null   int64  \n",
      " 9   address code   6700 non-null   int64  \n",
      " 10  profit         6700 non-null   float64\n",
      "dtypes: float64(3), int64(4), object(4)\n",
      "memory usage: 575.9+ KB\n"
     ]
    }
   ],
   "source": [
    "df1.info()"
   ]
  },
  {
   "cell_type": "code",
   "execution_count": 8,
   "metadata": {},
   "outputs": [],
   "source": [
    "df1.dropna(inplace=True)"
   ]
  },
  {
   "cell_type": "markdown",
   "metadata": {},
   "source": [
    "### Dataset Shape:"
   ]
  },
  {
   "cell_type": "code",
   "execution_count": 9,
   "metadata": {},
   "outputs": [
    {
     "data": {
      "text/plain": [
       "(6699, 11)"
      ]
     },
     "execution_count": 9,
     "metadata": {},
     "output_type": "execute_result"
    }
   ],
   "source": [
    "df1.shape"
   ]
  },
  {
   "cell_type": "markdown",
   "metadata": {},
   "source": [
    "## Data Cleaning"
   ]
  },
  {
   "cell_type": "markdown",
   "metadata": {},
   "source": [
    "### Checking the Missing Values"
   ]
  },
  {
   "cell_type": "code",
   "execution_count": 10,
   "metadata": {},
   "outputs": [
    {
     "data": {
      "text/plain": [
       "id               0\n",
       "discount         0\n",
       "price            0\n",
       "no of items      0\n",
       "location         0\n",
       "class            0\n",
       "segment          0\n",
       "delivery_type    0\n",
       "RID              0\n",
       "address code     0\n",
       "dtype: int64"
      ]
     },
     "execution_count": 10,
     "metadata": {},
     "output_type": "execute_result"
    }
   ],
   "source": [
    "df2.isnull().sum()"
   ]
  },
  {
   "cell_type": "markdown",
   "metadata": {},
   "source": [
    "### Now, Let's drop all the missing values remaining."
   ]
  },
  {
   "cell_type": "markdown",
   "metadata": {},
   "source": [
    "### Let's check the Missing values for the final time!"
   ]
  },
  {
   "cell_type": "code",
   "execution_count": 11,
   "metadata": {},
   "outputs": [
    {
     "data": {
      "text/plain": [
       "id               0\n",
       "discount         0\n",
       "price            0\n",
       "no of items      0\n",
       "location         0\n",
       "class            0\n",
       "segment          0\n",
       "delivery_type    0\n",
       "RID              0\n",
       "address code     0\n",
       "profit           0\n",
       "dtype: int64"
      ]
     },
     "execution_count": 11,
     "metadata": {},
     "output_type": "execute_result"
    }
   ],
   "source": [
    "df1.isnull().sum()"
   ]
  },
  {
   "cell_type": "markdown",
   "metadata": {},
   "source": [
    "Here, we have dropped all the missing values to avoid disturbances in the model. The Loan Prediction requires all the details to work efficiently and thus the missing values are dropped."
   ]
  },
  {
   "cell_type": "markdown",
   "metadata": {},
   "source": [
    "### Now, Let's check the final Dataset Shape"
   ]
  },
  {
   "cell_type": "code",
   "execution_count": 12,
   "metadata": {},
   "outputs": [
    {
     "data": {
      "text/plain": [
       "(3294, 10)"
      ]
     },
     "execution_count": 12,
     "metadata": {},
     "output_type": "execute_result"
    }
   ],
   "source": [
    "df2.shape"
   ]
  },
  {
   "cell_type": "markdown",
   "metadata": {},
   "source": [
    "### Exploratory Data Analyis"
   ]
  },
  {
   "cell_type": "markdown",
   "metadata": {},
   "source": [
    "#### Comparison between Parameters in getting the Loan:"
   ]
  },
  {
   "cell_type": "code",
   "execution_count": 13,
   "metadata": {},
   "outputs": [
    {
     "data": {
      "text/plain": [
       "array(['Central', 'South', 'West', 'East'], dtype=object)"
      ]
     },
     "execution_count": 13,
     "metadata": {},
     "output_type": "execute_result"
    }
   ],
   "source": [
    "df1['location'].unique()"
   ]
  },
  {
   "cell_type": "code",
   "execution_count": 14,
   "metadata": {},
   "outputs": [
    {
     "data": {
      "text/plain": [
       "array(['kariox', 'qexty', 'fynota'], dtype=object)"
      ]
     },
     "execution_count": 14,
     "metadata": {},
     "output_type": "execute_result"
    }
   ],
   "source": [
    "df1['class'].unique()"
   ]
  },
  {
   "cell_type": "code",
   "execution_count": 15,
   "metadata": {},
   "outputs": [
    {
     "data": {
      "text/plain": [
       "array(['Consumer', 'Corporate', 'Home Office'], dtype=object)"
      ]
     },
     "execution_count": 15,
     "metadata": {},
     "output_type": "execute_result"
    }
   ],
   "source": [
    "df1['segment'].unique()"
   ]
  },
  {
   "cell_type": "code",
   "execution_count": 16,
   "metadata": {},
   "outputs": [
    {
     "data": {
      "text/plain": [
       "array(['Standard Class', 'First Class', 'Second Class', 'Same Day'],\n",
       "      dtype=object)"
      ]
     },
     "execution_count": 16,
     "metadata": {},
     "output_type": "execute_result"
    }
   ],
   "source": [
    "df1['delivery_type'].unique()\n",
    "\n"
   ]
  },
  {
   "cell_type": "code",
   "execution_count": null,
   "metadata": {},
   "outputs": [],
   "source": []
  },
  {
   "cell_type": "markdown",
   "metadata": {},
   "source": [
    "### Let's replace the Variable values to Numerical form & display the Value Counts\n",
    "\n",
    "The data in Numerical form avoids disturbances in building the model. "
   ]
  },
  {
   "cell_type": "code",
   "execution_count": 18,
   "metadata": {},
   "outputs": [],
   "source": [
    "df1['class'].replace('kariox',2,inplace=True)\n",
    "df1['class'].replace('qexty',1,inplace=True)\n",
    "df1['class'].replace('fynota',0,inplace=True)"
   ]
  },
  {
   "cell_type": "code",
   "execution_count": 19,
   "metadata": {},
   "outputs": [],
   "source": [
    "df2['class'].replace('kariox',2,inplace=True)\n",
    "df2['class'].replace('qexty',1,inplace=True)\n",
    "df2['class'].replace('fynota',0,inplace=True)"
   ]
  },
  {
   "cell_type": "code",
   "execution_count": 20,
   "metadata": {},
   "outputs": [
    {
     "data": {
      "text/plain": [
       "2    4033\n",
       "1    1437\n",
       "0    1229\n",
       "Name: class, dtype: int64"
      ]
     },
     "execution_count": 20,
     "metadata": {},
     "output_type": "execute_result"
    }
   ],
   "source": [
    "df1['class'].value_counts()"
   ]
  },
  {
   "cell_type": "code",
   "execution_count": 21,
   "metadata": {},
   "outputs": [
    {
     "data": {
      "text/plain": [
       "2    3522\n",
       "1    2048\n",
       "0    1129\n",
       "Name: segment, dtype: int64"
      ]
     },
     "execution_count": 21,
     "metadata": {},
     "output_type": "execute_result"
    }
   ],
   "source": [
    "df1.segment=df1.segment.map({'Home Office':0,'Corporate':1,'Consumer':2})\n",
    "df1['segment'].value_counts()"
   ]
  },
  {
   "cell_type": "code",
   "execution_count": 22,
   "metadata": {},
   "outputs": [
    {
     "data": {
      "text/plain": [
       "2    1668\n",
       "1     972\n",
       "0     654\n",
       "Name: segment, dtype: int64"
      ]
     },
     "execution_count": 22,
     "metadata": {},
     "output_type": "execute_result"
    }
   ],
   "source": [
    "df2.segment=df2.segment.map({'Home Office':0,'Corporate':1,'Consumer':2})\n",
    "df2['segment'].value_counts()"
   ]
  },
  {
   "cell_type": "code",
   "execution_count": 23,
   "metadata": {},
   "outputs": [
    {
     "data": {
      "text/plain": [
       "1    2117\n",
       "0    1929\n",
       "3    1552\n",
       "2    1101\n",
       "Name: location, dtype: int64"
      ]
     },
     "execution_count": 23,
     "metadata": {},
     "output_type": "execute_result"
    }
   ],
   "source": [
    "df1.location=df1.location.map({'East':0,'West':1,'South':2,'Central':3})\n",
    "df1['location'].value_counts()"
   ]
  },
  {
   "cell_type": "code",
   "execution_count": 24,
   "metadata": {},
   "outputs": [
    {
     "data": {
      "text/plain": [
       "1    1085\n",
       "0     919\n",
       "3     771\n",
       "2     519\n",
       "Name: location, dtype: int64"
      ]
     },
     "execution_count": 24,
     "metadata": {},
     "output_type": "execute_result"
    }
   ],
   "source": [
    "df2.location=df2.location.map({'East':0,'West':1,'South':2,'Central':3})\n",
    "df2['location'].value_counts()"
   ]
  },
  {
   "cell_type": "code",
   "execution_count": 25,
   "metadata": {},
   "outputs": [
    {
     "data": {
      "text/plain": [
       "0    4086\n",
       "2    1290\n",
       "1     966\n",
       "3     357\n",
       "Name: delivery_type, dtype: int64"
      ]
     },
     "execution_count": 25,
     "metadata": {},
     "output_type": "execute_result"
    }
   ],
   "source": [
    "df1.delivery_type=df1.delivery_type.map({'Standard Class':0, 'First Class':1, 'Second Class':2, 'Same Day':3})\n",
    "df1['delivery_type'].value_counts()"
   ]
  },
  {
   "cell_type": "code",
   "execution_count": 26,
   "metadata": {},
   "outputs": [
    {
     "data": {
      "text/plain": [
       "0    1882\n",
       "2     654\n",
       "1     572\n",
       "3     186\n",
       "Name: delivery_type, dtype: int64"
      ]
     },
     "execution_count": 26,
     "metadata": {},
     "output_type": "execute_result"
    }
   ],
   "source": [
    "df2.delivery_type=df2.delivery_type.map({'Standard Class':0, 'First Class':1, 'Second Class':2, 'Same Day':3})\n",
    "df2['delivery_type'].value_counts()"
   ]
  },
  {
   "cell_type": "code",
   "execution_count": 27,
   "metadata": {},
   "outputs": [
    {
     "data": {
      "text/html": [
       "<div>\n",
       "<style scoped>\n",
       "    .dataframe tbody tr th:only-of-type {\n",
       "        vertical-align: middle;\n",
       "    }\n",
       "\n",
       "    .dataframe tbody tr th {\n",
       "        vertical-align: top;\n",
       "    }\n",
       "\n",
       "    .dataframe thead th {\n",
       "        text-align: right;\n",
       "    }\n",
       "</style>\n",
       "<table border=\"1\" class=\"dataframe\">\n",
       "  <thead>\n",
       "    <tr style=\"text-align: right;\">\n",
       "      <th></th>\n",
       "      <th>id</th>\n",
       "      <th>discount</th>\n",
       "      <th>price</th>\n",
       "      <th>no of items</th>\n",
       "      <th>location</th>\n",
       "      <th>class</th>\n",
       "      <th>segment</th>\n",
       "      <th>delivery_type</th>\n",
       "      <th>RID</th>\n",
       "      <th>address code</th>\n",
       "      <th>profit</th>\n",
       "    </tr>\n",
       "  </thead>\n",
       "  <tbody>\n",
       "    <tr>\n",
       "      <th>0</th>\n",
       "      <td>1</td>\n",
       "      <td>0.2</td>\n",
       "      <td>16.448</td>\n",
       "      <td>2</td>\n",
       "      <td>3</td>\n",
       "      <td>2</td>\n",
       "      <td>2</td>\n",
       "      <td>0</td>\n",
       "      <td>7981</td>\n",
       "      <td>77095</td>\n",
       "      <td>5.5512</td>\n",
       "    </tr>\n",
       "    <tr>\n",
       "      <th>1</th>\n",
       "      <td>2</td>\n",
       "      <td>0.0</td>\n",
       "      <td>29.700</td>\n",
       "      <td>5</td>\n",
       "      <td>3</td>\n",
       "      <td>2</td>\n",
       "      <td>2</td>\n",
       "      <td>0</td>\n",
       "      <td>6334</td>\n",
       "      <td>48185</td>\n",
       "      <td>13.3650</td>\n",
       "    </tr>\n",
       "    <tr>\n",
       "      <th>2</th>\n",
       "      <td>3</td>\n",
       "      <td>0.0</td>\n",
       "      <td>14.730</td>\n",
       "      <td>3</td>\n",
       "      <td>3</td>\n",
       "      <td>1</td>\n",
       "      <td>2</td>\n",
       "      <td>0</td>\n",
       "      <td>6333</td>\n",
       "      <td>48185</td>\n",
       "      <td>4.8609</td>\n",
       "    </tr>\n",
       "    <tr>\n",
       "      <th>3</th>\n",
       "      <td>4</td>\n",
       "      <td>0.0</td>\n",
       "      <td>43.920</td>\n",
       "      <td>3</td>\n",
       "      <td>3</td>\n",
       "      <td>2</td>\n",
       "      <td>2</td>\n",
       "      <td>0</td>\n",
       "      <td>6332</td>\n",
       "      <td>48185</td>\n",
       "      <td>12.7368</td>\n",
       "    </tr>\n",
       "    <tr>\n",
       "      <th>4</th>\n",
       "      <td>5</td>\n",
       "      <td>0.0</td>\n",
       "      <td>66.580</td>\n",
       "      <td>2</td>\n",
       "      <td>3</td>\n",
       "      <td>2</td>\n",
       "      <td>2</td>\n",
       "      <td>0</td>\n",
       "      <td>6331</td>\n",
       "      <td>48185</td>\n",
       "      <td>15.9792</td>\n",
       "    </tr>\n",
       "  </tbody>\n",
       "</table>\n",
       "</div>"
      ],
      "text/plain": [
       "   id  discount   price  no of items  location  class  segment  delivery_type  \\\n",
       "0   1       0.2  16.448            2         3      2        2              0   \n",
       "1   2       0.0  29.700            5         3      2        2              0   \n",
       "2   3       0.0  14.730            3         3      1        2              0   \n",
       "3   4       0.0  43.920            3         3      2        2              0   \n",
       "4   5       0.0  66.580            2         3      2        2              0   \n",
       "\n",
       "    RID  address code   profit  \n",
       "0  7981         77095   5.5512  \n",
       "1  6334         48185  13.3650  \n",
       "2  6333         48185   4.8609  \n",
       "3  6332         48185  12.7368  \n",
       "4  6331         48185  15.9792  "
      ]
     },
     "execution_count": 27,
     "metadata": {},
     "output_type": "execute_result"
    }
   ],
   "source": [
    "df1.head()"
   ]
  },
  {
   "cell_type": "code",
   "execution_count": 28,
   "metadata": {},
   "outputs": [
    {
     "data": {
      "text/html": [
       "<div>\n",
       "<style scoped>\n",
       "    .dataframe tbody tr th:only-of-type {\n",
       "        vertical-align: middle;\n",
       "    }\n",
       "\n",
       "    .dataframe tbody tr th {\n",
       "        vertical-align: top;\n",
       "    }\n",
       "\n",
       "    .dataframe thead th {\n",
       "        text-align: right;\n",
       "    }\n",
       "</style>\n",
       "<table border=\"1\" class=\"dataframe\">\n",
       "  <thead>\n",
       "    <tr style=\"text-align: right;\">\n",
       "      <th></th>\n",
       "      <th>id</th>\n",
       "      <th>discount</th>\n",
       "      <th>price</th>\n",
       "      <th>no of items</th>\n",
       "      <th>location</th>\n",
       "      <th>class</th>\n",
       "      <th>segment</th>\n",
       "      <th>delivery_type</th>\n",
       "      <th>RID</th>\n",
       "      <th>address code</th>\n",
       "    </tr>\n",
       "  </thead>\n",
       "  <tbody>\n",
       "    <tr>\n",
       "      <th>0</th>\n",
       "      <td>6701</td>\n",
       "      <td>0.0</td>\n",
       "      <td>24.200</td>\n",
       "      <td>5</td>\n",
       "      <td>1</td>\n",
       "      <td>2</td>\n",
       "      <td>2</td>\n",
       "      <td>0</td>\n",
       "      <td>2408</td>\n",
       "      <td>94122</td>\n",
       "    </tr>\n",
       "    <tr>\n",
       "      <th>1</th>\n",
       "      <td>6702</td>\n",
       "      <td>0.2</td>\n",
       "      <td>359.976</td>\n",
       "      <td>3</td>\n",
       "      <td>1</td>\n",
       "      <td>0</td>\n",
       "      <td>2</td>\n",
       "      <td>0</td>\n",
       "      <td>2409</td>\n",
       "      <td>94122</td>\n",
       "    </tr>\n",
       "    <tr>\n",
       "      <th>2</th>\n",
       "      <td>6703</td>\n",
       "      <td>0.0</td>\n",
       "      <td>3.520</td>\n",
       "      <td>2</td>\n",
       "      <td>0</td>\n",
       "      <td>2</td>\n",
       "      <td>2</td>\n",
       "      <td>0</td>\n",
       "      <td>5425</td>\n",
       "      <td>6708</td>\n",
       "    </tr>\n",
       "    <tr>\n",
       "      <th>3</th>\n",
       "      <td>6704</td>\n",
       "      <td>0.2</td>\n",
       "      <td>11.520</td>\n",
       "      <td>5</td>\n",
       "      <td>3</td>\n",
       "      <td>2</td>\n",
       "      <td>2</td>\n",
       "      <td>1</td>\n",
       "      <td>7408</td>\n",
       "      <td>60653</td>\n",
       "    </tr>\n",
       "    <tr>\n",
       "      <th>4</th>\n",
       "      <td>6705</td>\n",
       "      <td>0.0</td>\n",
       "      <td>242.940</td>\n",
       "      <td>3</td>\n",
       "      <td>1</td>\n",
       "      <td>2</td>\n",
       "      <td>0</td>\n",
       "      <td>0</td>\n",
       "      <td>733</td>\n",
       "      <td>98115</td>\n",
       "    </tr>\n",
       "  </tbody>\n",
       "</table>\n",
       "</div>"
      ],
      "text/plain": [
       "     id  discount    price  no of items  location  class  segment  \\\n",
       "0  6701       0.0   24.200            5         1      2        2   \n",
       "1  6702       0.2  359.976            3         1      0        2   \n",
       "2  6703       0.0    3.520            2         0      2        2   \n",
       "3  6704       0.2   11.520            5         3      2        2   \n",
       "4  6705       0.0  242.940            3         1      2        0   \n",
       "\n",
       "   delivery_type   RID  address code  \n",
       "0              0  2408         94122  \n",
       "1              0  2409         94122  \n",
       "2              0  5425          6708  \n",
       "3              1  7408         60653  \n",
       "4              0   733         98115  "
      ]
     },
     "execution_count": 28,
     "metadata": {},
     "output_type": "execute_result"
    }
   ],
   "source": [
    "df2.head()"
   ]
  },
  {
   "cell_type": "code",
   "execution_count": 29,
   "metadata": {},
   "outputs": [],
   "source": [
    "X1 = df1.iloc[:, 1:-1].values\n",
    "y1 = df1.iloc[:, -1].values"
   ]
  },
  {
   "cell_type": "code",
   "execution_count": 30,
   "metadata": {},
   "outputs": [
    {
     "data": {
      "text/plain": [
       "array([[2.00000e-01, 1.64480e+01, 2.00000e+00, ..., 0.00000e+00,\n",
       "        7.98100e+03, 7.70950e+04],\n",
       "       [0.00000e+00, 2.97000e+01, 5.00000e+00, ..., 0.00000e+00,\n",
       "        6.33400e+03, 4.81850e+04],\n",
       "       [0.00000e+00, 1.47300e+01, 3.00000e+00, ..., 0.00000e+00,\n",
       "        6.33300e+03, 4.81850e+04],\n",
       "       ...,\n",
       "       [0.00000e+00, 2.04000e+00, 1.00000e+00, ..., 0.00000e+00,\n",
       "        9.39000e+03, 5.40800e+03],\n",
       "       [1.00000e-01, 2.07846e+02, 3.00000e+00, ..., 2.00000e+00,\n",
       "        4.40000e+02, 1.00240e+04],\n",
       "       [2.00000e-01, 1.60776e+02, 3.00000e+00, ..., 0.00000e+00,\n",
       "        1.65900e+03, 9.00450e+04]])"
      ]
     },
     "execution_count": 30,
     "metadata": {},
     "output_type": "execute_result"
    }
   ],
   "source": [
    "X1"
   ]
  },
  {
   "cell_type": "markdown",
   "metadata": {},
   "source": [
    "### Splitting the data into Train and Test set"
   ]
  },
  {
   "cell_type": "code",
   "execution_count": 31,
   "metadata": {},
   "outputs": [],
   "source": [
    "X2 = df2.iloc[:, 1:].values"
   ]
  },
  {
   "cell_type": "code",
   "execution_count": 32,
   "metadata": {},
   "outputs": [
    {
     "data": {
      "text/plain": [
       "array([[0.00000e+00, 2.42000e+01, 5.00000e+00, ..., 0.00000e+00,\n",
       "        2.40800e+03, 9.41220e+04],\n",
       "       [2.00000e-01, 3.59976e+02, 3.00000e+00, ..., 0.00000e+00,\n",
       "        2.40900e+03, 9.41220e+04],\n",
       "       [0.00000e+00, 3.52000e+00, 2.00000e+00, ..., 0.00000e+00,\n",
       "        5.42500e+03, 6.70800e+03],\n",
       "       ...,\n",
       "       [0.00000e+00, 2.72940e+02, 3.00000e+00, ..., 2.00000e+00,\n",
       "        1.16900e+03, 1.00350e+04],\n",
       "       [2.00000e-01, 1.13568e+02, 2.00000e+00, ..., 0.00000e+00,\n",
       "        4.14000e+02, 9.41100e+04],\n",
       "       [2.00000e-01, 3.02400e+00, 3.00000e+00, ..., 0.00000e+00,\n",
       "        5.09200e+03, 8.05380e+04]])"
      ]
     },
     "execution_count": 32,
     "metadata": {},
     "output_type": "execute_result"
    }
   ],
   "source": [
    "X2"
   ]
  },
  {
   "cell_type": "code",
   "execution_count": 33,
   "metadata": {},
   "outputs": [
    {
     "data": {
      "text/plain": [
       "array([ 5.5512, 13.365 ,  4.8609, ...,  0.9588,  2.3094, 10.0485])"
      ]
     },
     "execution_count": 33,
     "metadata": {},
     "output_type": "execute_result"
    }
   ],
   "source": [
    "y1"
   ]
  },
  {
   "cell_type": "code",
   "execution_count": 34,
   "metadata": {},
   "outputs": [
    {
     "data": {
      "text/plain": [
       "array([[ 5.5512],\n",
       "       [13.365 ],\n",
       "       [ 4.8609],\n",
       "       ...,\n",
       "       [ 0.9588],\n",
       "       [ 2.3094],\n",
       "       [10.0485]])"
      ]
     },
     "execution_count": 34,
     "metadata": {},
     "output_type": "execute_result"
    }
   ],
   "source": [
    "y1 = y1.reshape(len(y1),1)\n",
    "y1"
   ]
  },
  {
   "cell_type": "markdown",
   "metadata": {},
   "source": [
    "### Logistic Regression (LR)"
   ]
  },
  {
   "cell_type": "markdown",
   "metadata": {},
   "source": [
    "Logistic regression is a supervised learning classification algorithm used to predict the probability of a target variable. \n",
    "\n",
    "Mathematically, a logistic regression model predicts P(Y=1) as a function of X. It is one of the simplest ML algorithms that can be used for various classification problems such as spam detection, Diabetes prediction, cancer detection etc."
   ]
  },
  {
   "cell_type": "code",
   "execution_count": 35,
   "metadata": {},
   "outputs": [],
   "source": [
    "from sklearn.preprocessing import StandardScaler\n",
    "sc_X1 = StandardScaler()\n",
    "sc_X2 = StandardScaler()\n",
    "sc_y1 = StandardScaler()\n",
    "X1 = sc_X1.fit_transform(X1)\n",
    "X2 = sc_X2.fit_transform(X2)\n",
    "y1 = sc_y1.fit_transform(y1)"
   ]
  },
  {
   "cell_type": "code",
   "execution_count": 37,
   "metadata": {},
   "outputs": [],
   "source": [
    "sample = pd.read_csv('sampleSolution.csv')\n",
    "y2 = sample.iloc[:, -1].values"
   ]
  },
  {
   "cell_type": "code",
   "execution_count": 38,
   "metadata": {},
   "outputs": [
    {
     "data": {
      "text/plain": [
       "array([0, 0, 0, ..., 0, 0, 0], dtype=int64)"
      ]
     },
     "execution_count": 38,
     "metadata": {},
     "output_type": "execute_result"
    }
   ],
   "source": [
    "y2"
   ]
  },
  {
   "cell_type": "markdown",
   "metadata": {},
   "source": [
    "#### Sigmoid Function"
   ]
  },
  {
   "cell_type": "code",
   "execution_count": 36,
   "metadata": {},
   "outputs": [
    {
     "data": {
      "text/plain": [
       "SVR()"
      ]
     },
     "execution_count": 36,
     "metadata": {},
     "output_type": "execute_result"
    }
   ],
   "source": [
    "from sklearn.svm import SVR\n",
    "regressor = SVR(kernel = 'rbf')\n",
    "regressor.fit(X1, y1)"
   ]
  },
  {
   "cell_type": "code",
   "execution_count": 40,
   "metadata": {},
   "outputs": [
    {
     "name": "stdout",
     "output_type": "stream",
     "text": [
      "[[-0.02717758  0.        ]\n",
      " [ 0.03083043  0.        ]\n",
      " [-0.08250771  0.        ]\n",
      " ...\n",
      " [ 0.17017487  0.        ]\n",
      " [-0.12598762  0.        ]\n",
      " [-0.07036839  0.        ]]\n",
      "[-0.02717758  0.03083043 -0.08250771 ...  0.17017487 -0.12598762\n",
      " -0.07036839]\n",
      "[[-0.02717758]\n",
      " [ 0.03083043]\n",
      " [-0.08250771]\n",
      " ...\n",
      " [ 0.17017487]\n",
      " [-0.12598762]\n",
      " [-0.07036839]]\n"
     ]
    }
   ],
   "source": [
    "y_pred = regressor.predict(X2)\n",
    "print(np.concatenate((y_pred.reshape(len(y_pred),1), y2.reshape(len(y2),1)),1))\n",
    "\n",
    "print(y_pred)\n",
    "\n",
    "print(y_pred.reshape(len(y_pred),1))"
   ]
  },
  {
   "cell_type": "code",
   "execution_count": 41,
   "metadata": {},
   "outputs": [
    {
     "name": "stdout",
     "output_type": "stream",
     "text": [
      "             0\n",
      "0    -0.027178\n",
      "1     0.030830\n",
      "2    -0.082508\n",
      "3    -0.014260\n",
      "4     0.108193\n",
      "...        ...\n",
      "3289 -0.049494\n",
      "3290 -0.062632\n",
      "3291  0.170175\n",
      "3292 -0.125988\n",
      "3293 -0.070368\n",
      "\n",
      "[3294 rows x 1 columns]\n"
     ]
    }
   ],
   "source": [
    "df = pd.DataFrame(y_pred)\n",
    "print(df)\n",
    "\n",
    "df.to_csv(r'E:\\data analysis\\project kaggle\\1kdag\\abcd.csv', index = False)"
   ]
  },
  {
   "cell_type": "code",
   "execution_count": null,
   "metadata": {},
   "outputs": [],
   "source": []
  }
 ],
 "metadata": {
  "kernelspec": {
   "display_name": "Python 3",
   "language": "python",
   "name": "python3"
  },
  "language_info": {
   "codemirror_mode": {
    "name": "ipython",
    "version": 3
   },
   "file_extension": ".py",
   "mimetype": "text/x-python",
   "name": "python",
   "nbconvert_exporter": "python",
   "pygments_lexer": "ipython3",
   "version": "3.8.3"
  }
 },
 "nbformat": 4,
 "nbformat_minor": 4
}
